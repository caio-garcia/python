{
 "cells": [
  {
   "cell_type": "markdown",
   "id": "be505038",
   "metadata": {},
   "source": [
    "### Create a function that takes a dictionary of ANDi names and returns a list of their names in alphabetical order. "
   ]
  },
  {
   "cell_type": "code",
   "execution_count": 15,
   "id": "0f76d027",
   "metadata": {},
   "outputs": [
    {
     "data": {
      "text/plain": [
       "['Alexander',\n",
       " 'Anne-Louise',\n",
       " 'Ashraf',\n",
       " 'Caio',\n",
       " 'Jorge',\n",
       " 'Kieran',\n",
       " 'Minhye',\n",
       " 'Rida',\n",
       " 'Zac']"
      ]
     },
     "execution_count": 15,
     "metadata": {},
     "output_type": "execute_result"
    }
   ],
   "source": [
    "\n",
    "\n",
    "ANDis = {'Turing': [\"Caio\", \"Kieran\", \"Minhye\", \"Ashraf\", \"Jorge\"],\n",
    "         \"Hamilton\": [\"Zac\", \"Rida\",\"Anne-Louise\", \"Alexander\"]}\n",
    "\n",
    "def list_of_andis(dictionary):\n",
    "    name_list = []\n",
    "    for club in dictionary.values():\n",
    "        for name in club:\n",
    "            name_list.append(name)\n",
    "    name_list.sort()\n",
    "    return name_list\n",
    "\n",
    "list_of_andis(ANDis)"
   ]
  },
  {
   "cell_type": "markdown",
   "id": "0a263d38",
   "metadata": {},
   "source": [
    "#### I'm trying to watch some LinkedIn Learning videos to complete my Python Learning Pathway,\n",
    "#### but I keep getting distracted by meme compilations, music recommendations, pets and more on Slack.\n",
    "#### Your job is to help me create a function that\n",
    "#### takes a string and checks to see if it contains the following words or phrases:\n",
    "#### \"Dog\" , \"pet\" , \"music\" , \"Funny meme\" , \"Listen to this\"\n",
    "#### If it does, return \"NO!\" Otherwise, return \"Safe watching!\""
   ]
  },
  {
   "cell_type": "code",
   "execution_count": 16,
   "id": "2ee9426c",
   "metadata": {},
   "outputs": [
    {
     "name": "stdout",
     "output_type": "stream",
     "text": [
      "Safe watching!\n",
      "NO!\n",
      "NO!\n",
      "NO!\n",
      "Safe watching!\n"
     ]
    }
   ],
   "source": [
    "def forbidden_words():\n",
    "    words_not_allowed = [\"Dog\" , \"pet\" , \"music\" , \"Funny meme\" , \"Listen to this\"]\n",
    "    words_not_allowed = [item.lower() for item in words_not_allowed]\n",
    "    return words_not_allowed\n",
    "\n",
    "def safe_to_watch(word):\n",
    "    not_allowed_words = forbidden_words()\n",
    "    word = word.lower()\n",
    "    if word in not_allowed_words:\n",
    "        return \"NO!\"\n",
    "    else:\n",
    "        return \"Safe watching!\"\n",
    "\n",
    "print(safe_to_watch('python'))\n",
    "print(safe_to_watch('Music'))\n",
    "print(safe_to_watch('PET'))\n",
    "print(safe_to_watch('Funny MEME'))\n",
    "print(safe_to_watch('Cool!'))\n"
   ]
  },
  {
   "cell_type": "markdown",
   "id": "0cd8aa0c",
   "metadata": {},
   "source": [
    "### Create a function that takes a string as an argument and returns a coded (h4ck3r 5p34k) version of the string.\n",
    "#### Example: hacker_speak(\"anddigital is cool\") ➞ \"4ndd1g1t4l 15 c00l\"\n",
    "\n",
    "#### In order to work properly, the function should replace all \"a\"s with 4, \"e\"s with 3, \"i\"s with 1, \"o\"s with 0, and \"s\"s with 5."
   ]
  },
  {
   "cell_type": "code",
   "execution_count": 14,
   "id": "edbc467c",
   "metadata": {},
   "outputs": [
    {
     "name": "stdout",
     "output_type": "stream",
     "text": [
      "n1c3 0n3\n",
      "C@10 G@RC1@\n",
      "n3w P@55W0rd\n",
      "wh@t5@pp 15 B3tt3r\n"
     ]
    }
   ],
   "source": [
    "\n",
    "def hacker_speak(word):\n",
    "    transformer = {\n",
    "        \"a\": \"@\",\n",
    "        \"e\": \"3\",\n",
    "        \"i\": \"1\",\n",
    "        \"o\": \"0\",\n",
    "        \"s\": \"5\"\n",
    "    }\n",
    "\n",
    "    for letter in word:\n",
    "        if letter.lower() in transformer.keys():\n",
    "            word = word.replace(letter, transformer[letter.lower()])\n",
    "    \n",
    "    return word\n",
    "\n",
    "print(hacker_speak('nice one'))\n",
    "print(hacker_speak('CAIO GARCIA'))\n",
    "print(hacker_speak('nEw PassWOrd'))\n",
    "print(hacker_speak('whatsApp is Better'))\n"
   ]
  },
  {
   "cell_type": "code",
   "execution_count": null,
   "id": "ee06f23b",
   "metadata": {},
   "outputs": [],
   "source": []
  }
 ],
 "metadata": {
  "kernelspec": {
   "display_name": "Python 3 (ipykernel)",
   "language": "python",
   "name": "python3"
  },
  "language_info": {
   "codemirror_mode": {
    "name": "ipython",
    "version": 3
   },
   "file_extension": ".py",
   "mimetype": "text/x-python",
   "name": "python",
   "nbconvert_exporter": "python",
   "pygments_lexer": "ipython3",
   "version": "3.9.13"
  }
 },
 "nbformat": 4,
 "nbformat_minor": 5
}
