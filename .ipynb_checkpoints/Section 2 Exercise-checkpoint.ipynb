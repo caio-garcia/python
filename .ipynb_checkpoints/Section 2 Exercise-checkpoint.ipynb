{
 "cells": [
  {
   "cell_type": "code",
   "execution_count": 27,
   "id": "ab1ad82b",
   "metadata": {},
   "outputs": [],
   "source": [
    "class Employee:    \n",
    "    def __init__(self, first_name, last_name):\n",
    "        self.full_name = first_name + ' ' + last_name\n",
    "        self.email= first_name.lower()+\".\"+last_name.lower()+\"@and.digital\""
   ]
  },
  {
   "cell_type": "code",
   "execution_count": 28,
   "id": "e0cc9f2b",
   "metadata": {},
   "outputs": [],
   "source": [
    "ANDis = [Employee(\"Caio\",\"Garcia\"), Employee(\"Alexander\",\"Hole\"), Employee(\"Rida\",\"Bari\")]"
   ]
  },
  {
   "cell_type": "code",
   "execution_count": 29,
   "id": "00ac1f30",
   "metadata": {},
   "outputs": [
    {
     "name": "stdout",
     "output_type": "stream",
     "text": [
      "[{'full_name': 'Caio Garcia', 'email': 'caio.garcia@and.digital'}, {'full_name': 'Alexander Hole', 'email': 'alexander.hole@and.digital'}, {'full_name': 'Rida Bari', 'email': 'rida.bari@and.digital'}]\n"
     ]
    }
   ],
   "source": [
    "print([i.__dict__ for i in ANDis])"
   ]
  },
  {
   "cell_type": "code",
   "execution_count": 30,
   "id": "1e75aaae",
   "metadata": {},
   "outputs": [
    {
     "name": "stdout",
     "output_type": "stream",
     "text": [
      "[{'full_name': 'Caio Garcia', 'email': 'caio.garcia@and.digital'}]\n"
     ]
    }
   ],
   "source": [
    "print([i.__dict__ for i in ANDis if 'Caio' in i.full_name])"
   ]
  },
  {
   "cell_type": "code",
   "execution_count": null,
   "id": "cf117180",
   "metadata": {},
   "outputs": [],
   "source": []
  }
 ],
 "metadata": {
  "kernelspec": {
   "display_name": "Python 3 (ipykernel)",
   "language": "python",
   "name": "python3"
  },
  "language_info": {
   "codemirror_mode": {
    "name": "ipython",
    "version": 3
   },
   "file_extension": ".py",
   "mimetype": "text/x-python",
   "name": "python",
   "nbconvert_exporter": "python",
   "pygments_lexer": "ipython3",
   "version": "3.9.13"
  }
 },
 "nbformat": 4,
 "nbformat_minor": 5
}
